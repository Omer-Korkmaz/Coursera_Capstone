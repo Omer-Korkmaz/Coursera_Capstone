{
 "cells": [
  {
   "cell_type": "markdown",
   "metadata": {},
   "source": [
    "# The Battle of the Neighborhoods - Istanbul"
   ]
  },
  {
   "cell_type": "markdown",
   "metadata": {},
   "source": [
    "## Searching for the best place to open up a theatre in Istanbul using Data Science"
   ]
  },
  {
   "cell_type": "markdown",
   "metadata": {},
   "source": [
    "This notebook contains the project called \"The Battle of the Neighborhoods - Istanbul\". The project is the final assignment of IBM Data Science Professional Certificate Courses (9 of 9)."
   ]
  },
  {
   "cell_type": "markdown",
   "metadata": {},
   "source": [
    "## Index"
   ]
  },
  {
   "cell_type": "markdown",
   "metadata": {},
   "source": [
    "### a. Business Understanding"
   ]
  },
  {
   "cell_type": "markdown",
   "metadata": {},
   "source": [
    "### b. Data Understanding"
   ]
  },
  {
   "cell_type": "markdown",
   "metadata": {},
   "source": [
    "### c. Target Audience and Expectations"
   ]
  },
  {
   "cell_type": "markdown",
   "metadata": {},
   "source": [
    "### d. Methodology "
   ]
  },
  {
   "cell_type": "markdown",
   "metadata": {},
   "source": [
    "### e. Results"
   ]
  },
  {
   "cell_type": "markdown",
   "metadata": {},
   "source": [
    "### f. Discussion"
   ]
  },
  {
   "cell_type": "markdown",
   "metadata": {},
   "source": [
    "### g. Conclusion"
   ]
  },
  {
   "cell_type": "markdown",
   "metadata": {},
   "source": [
    "  \n",
    "    \n",
    "      \n",
    "      "
   ]
  },
  {
   "cell_type": "markdown",
   "metadata": {},
   "source": [
    "  "
   ]
  },
  {
   "cell_type": "markdown",
   "metadata": {},
   "source": [
    "### a. Business Understanding"
   ]
  },
  {
   "cell_type": "markdown",
   "metadata": {},
   "source": [
    "According to Istanbul's Wİkipedia page, with a total population of around fifteen million residents, Istanbul is one of the world's largest cities by population, ranking as the world's fifteenth-largest city and the largest city in Europe. Since it is a city \"paved with gold\", and  prominent in geopolitical and cultural affairs, it is the best city in the country for entrepreneurs to start a business, especially if the business is based on art or cultural products. \n",
    "\n",
    "Istanbul is the best city in the country to start a business based on art, hovever, which neighborhood is optimal for a specific venue is a problem remains to be solved. This project aims to solve this problem. We are going to try to find the optimal neighborhood in Istanbul to open a theatre hall, using data science. \n",
    "\n",
    "Optimal neighborhood would have a lot of other venues so that people would want to come to the neighborhood frequently. We want to enable them to combine going to a play with other activities, eating outside, going to a pub, etc. On the other hand, it is supposed to have no theatre halls at all or might have 1 or 2. This way, competition won't be fierce."
   ]
  },
  {
   "cell_type": "markdown",
   "metadata": {},
   "source": [
    "### b. Data Understanding"
   ]
  },
  {
   "cell_type": "markdown",
   "metadata": {},
   "source": [
    "Based on the business understanding, we are looking at 2 dimensions here, in order to solve the problem at hand: \n",
    "\n",
    "- There has to be a lot of other venues in the neighborhood.\n",
    "- Neighborhood is supposed to have no theatre halls at all or might have 1 or 2.\n",
    "\n",
    "Therefore, two sets of analysis will be used together. Both analyses will leverage;\n",
    "\n",
    "- List of neighborhoods and postal codes from Turkish Postal Service's website: List is maintained in an Excel table on Turkish Postal Service's official website: https://postakodu.ptt.gov.tr/ (Can be downloaded by clicking on \"Posta Kodu Özet Tablosu\"). This table contains postal codes, city and neighborhood names for enitre Turkey. Data regarding Istanbul will be filtered and used.\n",
    "\n",
    "- Geographical location data of the neighbourhoods from Geocoder package: This data will be used to create maps.\n",
    "\n",
    "- Venue data from Foursquare: Venue data is fundamental for this project, it will enable us to find the optimal neighborhood in Istanbul to open a theatre hall,"
   ]
  },
  {
   "cell_type": "markdown",
   "metadata": {},
   "source": [
    "### c. Target Audience and Expectations"
   ]
  },
  {
   "cell_type": "markdown",
   "metadata": {},
   "source": [
    "This project is meant to help entrepreneurs to decide which neighborhood is the optimal place to open a theatre hall is Istanbul. Moreover, it is meant to help them to convince potential investors regarding the viability of their future business."
   ]
  },
  {
   "cell_type": "code",
   "execution_count": null,
   "metadata": {},
   "outputs": [],
   "source": []
  }
 ],
 "metadata": {
  "kernelspec": {
   "display_name": "Python",
   "language": "python",
   "name": "conda-env-python-py"
  },
  "language_info": {
   "codemirror_mode": {
    "name": "ipython",
    "version": 3
   },
   "file_extension": ".py",
   "mimetype": "text/x-python",
   "name": "python",
   "nbconvert_exporter": "python",
   "pygments_lexer": "ipython3",
   "version": "3.6.11"
  }
 },
 "nbformat": 4,
 "nbformat_minor": 4
}
